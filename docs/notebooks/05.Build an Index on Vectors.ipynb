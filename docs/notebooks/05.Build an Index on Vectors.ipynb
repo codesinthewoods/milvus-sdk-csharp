{
 "cells": [
  {
   "attachments": {},
   "cell_type": "markdown",
   "metadata": {},
   "source": [
    "# [Build an Index on Vectors](https://milvus.io/docs/v2.3.0-beta/build_index.md)\n",
    "\n",
    "> This guide describes how to build an index on vectors in Milvus.\n",
    "\n",
    "Vector indexes are an organizational unit of metadata used to accelerate vector similarity search. Without the index built on vectors, Milvus will perform a brute-force search by default.\n",
    "\n",
    "See Vector Index for more information about the mechanism and varieties of vector indexes."
   ]
  },
  {
   "attachments": {},
   "cell_type": "markdown",
   "metadata": {},
   "source": [
    "# Connect to Milvus"
   ]
  },
  {
   "cell_type": "code",
   "execution_count": 1,
   "metadata": {
    "dotnet_interactive": {
     "language": "csharp"
    },
    "polyglot_notebook": {
     "kernelName": "csharp"
    },
    "vscode": {
     "languageId": "polyglot-notebook"
    }
   },
   "outputs": [
    {
     "data": {
      "text/html": [
       "<div><div></div><div></div><div><strong>Installed Packages</strong><ul><li><span>IO.Milvus, 2.2.1-alpha.4</span></li></ul></div></div>"
      ]
     },
     "metadata": {},
     "output_type": "display_data"
    },
    {
     "data": {
      "text/html": [
       "<details open=\"open\" class=\"dni-treeview\"><summary><span class=\"dni-code-hint\"><code>{MilvusGrpcClient:in01-5a0bcd24f238dca.aws-us-west-2.vectordb.zillizcloud.com:19536}</code></span></summary><div><table><thead><tr></tr></thead><tbody><tr><td>Address</td><td>in01-5a0bcd24f238dca.aws-us-west-2.vectordb.zillizcloud.com:19536</td></tr></tbody></table></div></details><style>\r\n",
       ".dni-code-hint {\r\n",
       "    font-style: italic;\r\n",
       "    overflow: hidden;\r\n",
       "    white-space: nowrap;\r\n",
       "}\r\n",
       ".dni-treeview {\r\n",
       "    white-space: nowrap;\r\n",
       "}\r\n",
       ".dni-treeview td {\r\n",
       "    vertical-align: top;\r\n",
       "    text-align: start;\r\n",
       "}\r\n",
       "details.dni-treeview {\r\n",
       "    padding-left: 1em;\r\n",
       "}\r\n",
       "table td {\r\n",
       "    text-align: start;\r\n",
       "}\r\n",
       "table tr { \r\n",
       "    vertical-align: top; \r\n",
       "    margin: 0em 0px;\r\n",
       "}\r\n",
       "table tr td pre \r\n",
       "{ \r\n",
       "    vertical-align: top !important; \r\n",
       "    margin: 0em 0px !important;\r\n",
       "} \r\n",
       "table th {\r\n",
       "    text-align: start;\r\n",
       "}\r\n",
       "</style>"
      ]
     },
     "metadata": {},
     "output_type": "display_data"
    }
   ],
   "source": [
    "#r \"nuget: IO.Milvus, 2.2.1-alpha.4\"\n",
    "#!import config/Settings.cs\n",
    "\n",
    "using IO.Milvus;\n",
    "using IO.Milvus.Client;\n",
    "using IO.Milvus.Client.gRPC;\n",
    "using IO.Milvus.Client.REST;\n",
    "using InteractiveKernel = Microsoft.DotNet.Interactive.Kernel;\n",
    "\n",
    "//Connect to milvus\n",
    "(string endpoint,int port,string userName,string password) = Settings.LoadFromFile();\n",
    "\n",
    "IMilvusClient milvusClient = default;\n",
    "\n",
    "milvusClient = new MilvusGrpcClient(endpoint,port,userName,password);\n",
    "milvusClient"
   ]
  },
  {
   "attachments": {},
   "cell_type": "markdown",
   "metadata": {},
   "source": [
    "> The following example builds a 1024-cluster IVF_FLAT index with Euclidean distance (L2) as the similarity metric. You can choose the index and metrics that suit your scenario. See Similarity Metrics for more information."
   ]
  },
  {
   "cell_type": "code",
   "execution_count": 5,
   "metadata": {
    "dotnet_interactive": {
     "language": "csharp"
    },
    "polyglot_notebook": {
     "kernelName": "csharp"
    },
    "vscode": {
     "languageId": "polyglot-notebook"
    }
   },
   "outputs": [],
   "source": [
    "\n",
    "string collectionName = \"book\";\n",
    "await milvusClient.CreateIndexAsync(\n",
    "    collectionName,\n",
    "    \"book_intro\",\n",
    "    \"default\",\n",
    "    //MilvusIndexType.IVF_FLAT,//Use MilvusIndexType.IVF_FLAT.\n",
    "    MilvusIndexType.AUTOINDEX,//Use MilvusIndexType.AUTOINDEX when you are using zilliz cloud.\n",
    "    MilvusMetricType.L2,\n",
    "    new Dictionary<string, string> { { \"nlist\", \"1024\" } });"
   ]
  },
  {
   "attachments": {},
   "cell_type": "markdown",
   "metadata": {},
   "source": [
    "# Index info\n",
    "\n",
    "Now we had build"
   ]
  },
  {
   "cell_type": "code",
   "execution_count": 12,
   "metadata": {
    "dotnet_interactive": {
     "language": "csharp"
    },
    "polyglot_notebook": {
     "kernelName": "csharp"
    },
    "vscode": {
     "languageId": "polyglot-notebook"
    }
   },
   "outputs": [
    {
     "name": "stdout",
     "output_type": "stream",
     "text": [
      "FieldName:book_intro, IndexName:default, IndexId:441758375942621553\r\n"
     ]
    }
   ],
   "source": [
    "//Check index status\n",
    "var indexInfos = await milvusClient.DescribeIndexAsync(collectionName, \"book_intro\");\n",
    "\n",
    "foreach(var info in indexInfos){\n",
    "    Console.WriteLine(\"FieldName:{0}, IndexName:{1}, IndexId:{2}\", info.FieldName , info.IndexName,info.IndexId);\n",
    "}"
   ]
  }
 ],
 "metadata": {
  "language_info": {
   "name": "python"
  },
  "orig_nbformat": 4
 },
 "nbformat": 4,
 "nbformat_minor": 2
}
