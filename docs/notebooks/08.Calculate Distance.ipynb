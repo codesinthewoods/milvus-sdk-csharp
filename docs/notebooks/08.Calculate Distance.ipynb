{
 "cells": [
  {
   "attachments": {},
   "cell_type": "markdown",
   "metadata": {},
   "source": [
    "# Calculate Distance Between Vectors\n",
    "\n",
    "**If you are using zillz cloud, skip this chapter because it's a deny api**\n",
    "\n",
    "> This topic describes how to calculate distance between vectors with Milvus.\n",
    "\n",
    "Milvus searches most similar vectors based on the distance calculation of vectors. Vice versa, you can use Milvus to calculate the distance between vectors using distance metrics that suit specific scenario. See Similarity Metrics for more information.\n",
    "\n",
    "The following example simulates the scenarios when you want to calculate the distance between vectors in the collection and some other vectors."
   ]
  },
  {
   "attachments": {},
   "cell_type": "markdown",
   "metadata": {},
   "source": [
    "## Connect to milvus."
   ]
  },
  {
   "cell_type": "code",
   "execution_count": 1,
   "metadata": {
    "vscode": {
     "languageId": "polyglot-notebook"
    }
   },
   "outputs": [
    {
     "data": {
      "text/html": [
       "<div><div></div><div></div><div><strong>Installed Packages</strong><ul><li><span>IO.Milvus, 2.2.1-alpha.4</span></li></ul></div></div>"
      ]
     },
     "metadata": {},
     "output_type": "display_data"
    },
    {
     "data": {
      "text/html": [
       "<details open=\"open\" class=\"dni-treeview\"><summary><span class=\"dni-code-hint\"><code>{MilvusGrpcClient:in01-5a0bcd24f238dca.aws-us-west-2.vectordb.zillizcloud.com:19536}</code></span></summary><div><table><thead><tr></tr></thead><tbody><tr><td>Address</td><td>in01-5a0bcd24f238dca.aws-us-west-2.vectordb.zillizcloud.com:19536</td></tr></tbody></table></div></details><style>\r\n",
       ".dni-code-hint {\r\n",
       "    font-style: italic;\r\n",
       "    overflow: hidden;\r\n",
       "    white-space: nowrap;\r\n",
       "}\r\n",
       ".dni-treeview {\r\n",
       "    white-space: nowrap;\r\n",
       "}\r\n",
       ".dni-treeview td {\r\n",
       "    vertical-align: top;\r\n",
       "    text-align: start;\r\n",
       "}\r\n",
       "details.dni-treeview {\r\n",
       "    padding-left: 1em;\r\n",
       "}\r\n",
       "table td {\r\n",
       "    text-align: start;\r\n",
       "}\r\n",
       "table tr { \r\n",
       "    vertical-align: top; \r\n",
       "    margin: 0em 0px;\r\n",
       "}\r\n",
       "table tr td pre \r\n",
       "{ \r\n",
       "    vertical-align: top !important; \r\n",
       "    margin: 0em 0px !important;\r\n",
       "} \r\n",
       "table th {\r\n",
       "    text-align: start;\r\n",
       "}\r\n",
       "</style>"
      ]
     },
     "metadata": {},
     "output_type": "display_data"
    }
   ],
   "source": [
    "#r \"nuget: IO.Milvus, 2.2.1-alpha.4\"\n",
    "#!import config/Settings.cs\n",
    "\n",
    "using IO.Milvus;\n",
    "using IO.Milvus.Client;\n",
    "using IO.Milvus.Client.gRPC;\n",
    "using IO.Milvus.Client.REST;\n",
    "using InteractiveKernel = Microsoft.DotNet.Interactive.Kernel;\n",
    "\n",
    "//Connect to milvus\n",
    "(string endpoint,int port,string userName,string password) = Settings.LoadFromFile();\n",
    "\n",
    "IMilvusClient milvusClient = default;\n",
    "\n",
    "milvusClient = new MilvusGrpcClient(endpoint,port,userName,password);\n",
    "milvusClient"
   ]
  },
  {
   "attachments": {},
   "cell_type": "markdown",
   "metadata": {},
   "source": [
    "# Load collection\n",
    "\n",
    "🍺🍺🍺🍺🍺🍺🍺🍺🍺🍺🍺🍺🍺🍺🍺🍺🍺🍺\n",
    "\n",
    "All search and query operations within Milvus are executed in memory. Load the collection to memory before conducting a vector query."
   ]
  },
  {
   "cell_type": "code",
   "execution_count": 2,
   "metadata": {
    "dotnet_interactive": {
     "language": "csharp"
    },
    "polyglot_notebook": {
     "kernelName": "csharp"
    },
    "vscode": {
     "languageId": "polyglot-notebook"
    }
   },
   "outputs": [
    {
     "name": "stdout",
     "output_type": "stream",
     "text": [
      "100%\r\n"
     ]
    },
    {
     "data": {
      "text/html": [
       "<details open=\"open\" class=\"dni-treeview\"><summary><span class=\"dni-code-hint\"><code>IO.Milvus.ApiSchema.DetailedMilvusCollection</code></span></summary><div><table><thead><tr></tr></thead><tbody><tr><td>Aliases</td><td></td></tr><tr><td>CollectionName</td><td>book</td></tr><tr><td>CollectionId</td><td><div class=\"dni-plaintext\"><pre>441758375942619910</pre></div></td></tr><tr><td>ConsistencyLevel</td><td><span>Session</span></td></tr><tr><td>CreatedUtcTime</td><td><span>2023-05-28 05:28:23Z</span></td></tr><tr><td>Schema</td><td><details class=\"dni-treeview\"><summary><span class=\"dni-code-hint\"><code>IO.Milvus.ApiSchema.CollectionSchema</code></span></summary><div><table><thead><tr></tr></thead><tbody><tr><td>AutoId</td><td><div class=\"dni-plaintext\"><pre>False</pre></div></td></tr><tr><td>Description</td><td></td></tr><tr><td>Fields</td><td><table><thead><tr><th><i>index</i></th><th>value</th></tr></thead><tbody><tr><td>0</td><td><details class=\"dni-treeview\"><summary><span class=\"dni-code-hint\"><code>IO.Milvus.FieldType</code></span></summary><div><table><thead><tr></tr></thead><tbody><tr><td>AutoId</td><td><div class=\"dni-plaintext\"><pre>False</pre></div></td></tr><tr><td>DataType</td><td><span>Int64</span></td></tr><tr><td>Description</td><td><div class=\"dni-plaintext\"><pre>&lt;null&gt;</pre></div></td></tr><tr><td>FieldId</td><td><div class=\"dni-plaintext\"><pre>100</pre></div></td></tr><tr><td>IndexParams</td><td><i>(empty)</i></td></tr><tr><td>IsPrimaryKey</td><td><div class=\"dni-plaintext\"><pre>True</pre></div></td></tr><tr><td>Name</td><td>book_id</td></tr><tr><td>TypeParams</td><td><i>(empty)</i></td></tr></tbody></table></div></details></td></tr><tr><td>1</td><td><details class=\"dni-treeview\"><summary><span class=\"dni-code-hint\"><code>IO.Milvus.FieldType</code></span></summary><div><table><thead><tr></tr></thead><tbody><tr><td>AutoId</td><td><div class=\"dni-plaintext\"><pre>False</pre></div></td></tr><tr><td>DataType</td><td><span>Int64</span></td></tr><tr><td>Description</td><td><div class=\"dni-plaintext\"><pre>&lt;null&gt;</pre></div></td></tr><tr><td>FieldId</td><td><div class=\"dni-plaintext\"><pre>101</pre></div></td></tr><tr><td>IndexParams</td><td><i>(empty)</i></td></tr><tr><td>IsPrimaryKey</td><td><div class=\"dni-plaintext\"><pre>False</pre></div></td></tr><tr><td>Name</td><td>word_count</td></tr><tr><td>TypeParams</td><td><i>(empty)</i></td></tr></tbody></table></div></details></td></tr><tr><td>2</td><td><details class=\"dni-treeview\"><summary><span class=\"dni-code-hint\"><code>IO.Milvus.FieldType</code></span></summary><div><table><thead><tr></tr></thead><tbody><tr><td>AutoId</td><td><div class=\"dni-plaintext\"><pre>False</pre></div></td></tr><tr><td>DataType</td><td><span>VarChar</span></td></tr><tr><td>Description</td><td><div class=\"dni-plaintext\"><pre>&lt;null&gt;</pre></div></td></tr><tr><td>FieldId</td><td><div class=\"dni-plaintext\"><pre>102</pre></div></td></tr><tr><td>IndexParams</td><td><i>(empty)</i></td></tr><tr><td>IsPrimaryKey</td><td><div class=\"dni-plaintext\"><pre>False</pre></div></td></tr><tr><td>Name</td><td>book_name</td></tr><tr><td>TypeParams</td><td><table><thead><tr><th><i>key</i></th><th>value</th></tr></thead><tbody><tr><td>max_length</td><td>256</td></tr></tbody></table></td></tr></tbody></table></div></details></td></tr><tr><td>3</td><td><details class=\"dni-treeview\"><summary><span class=\"dni-code-hint\"><code>IO.Milvus.FieldType</code></span></summary><div><table><thead><tr></tr></thead><tbody><tr><td>AutoId</td><td><div class=\"dni-plaintext\"><pre>False</pre></div></td></tr><tr><td>DataType</td><td><span>FloatVector</span></td></tr><tr><td>Description</td><td><div class=\"dni-plaintext\"><pre>&lt;null&gt;</pre></div></td></tr><tr><td>FieldId</td><td><div class=\"dni-plaintext\"><pre>103</pre></div></td></tr><tr><td>IndexParams</td><td><i>(empty)</i></td></tr><tr><td>IsPrimaryKey</td><td><div class=\"dni-plaintext\"><pre>False</pre></div></td></tr><tr><td>Name</td><td>book_intro</td></tr><tr><td>TypeParams</td><td><table><thead><tr><th><i>key</i></th><th>value</th></tr></thead><tbody><tr><td>dim</td><td>2</td></tr></tbody></table></td></tr></tbody></table></div></details></td></tr></tbody></table></td></tr><tr><td>Name</td><td>book</td></tr></tbody></table></div></details></td></tr><tr><td>ShardsNum</td><td><div class=\"dni-plaintext\"><pre>1</pre></div></td></tr><tr><td>StartPostions</td><td><i>(empty)</i></td></tr></tbody></table></div></details><style>\r\n",
       ".dni-code-hint {\r\n",
       "    font-style: italic;\r\n",
       "    overflow: hidden;\r\n",
       "    white-space: nowrap;\r\n",
       "}\r\n",
       ".dni-treeview {\r\n",
       "    white-space: nowrap;\r\n",
       "}\r\n",
       ".dni-treeview td {\r\n",
       "    vertical-align: top;\r\n",
       "    text-align: start;\r\n",
       "}\r\n",
       "details.dni-treeview {\r\n",
       "    padding-left: 1em;\r\n",
       "}\r\n",
       "table td {\r\n",
       "    text-align: start;\r\n",
       "}\r\n",
       "table tr { \r\n",
       "    vertical-align: top; \r\n",
       "    margin: 0em 0px;\r\n",
       "}\r\n",
       "table tr td pre \r\n",
       "{ \r\n",
       "    vertical-align: top !important; \r\n",
       "    margin: 0em 0px !important;\r\n",
       "} \r\n",
       "table th {\r\n",
       "    text-align: start;\r\n",
       "}\r\n",
       "</style>"
      ]
     },
     "metadata": {},
     "output_type": "display_data"
    }
   ],
   "source": [
    "string collectionName = \"book\";\n",
    "\n",
    "if(!(await milvusClient.HasCollectionAsync(collectionName)))\n",
    "{\n",
    "    Console.WriteLine($\"Collection {collectionName} not exist\");\n",
    "    return;\n",
    "}\n",
    "\n",
    "await milvusClient.LoadCollectionAsync(collectionName);\n",
    "\n",
    "//Waiting for collection loaded\n",
    "\n",
    "long progress = await milvusClient.GetLoadingProgressAsync(collectionName);\n",
    "\n",
    "while(progress < 100)\n",
    "{\n",
    "    Console.WriteLine($\"{progress}%\");\n",
    "    progress = await milvusClient.GetLoadingProgressAsync(collectionName);\n",
    "    await Task.Delay(100);\n",
    "}\n",
    "\n",
    "Console.WriteLine($\"{progress}%\");\n",
    "\n",
    "var collectionInfo = await milvusClient.DescribeCollectionAsync(collectionName);\n",
    "collectionInfo"
   ]
  },
  {
   "attachments": {},
   "cell_type": "markdown",
   "metadata": {},
   "source": [
    "# Prepare vectors\n",
    "\n",
    "> Vectors to be calculated must agree in vector type and dimension."
   ]
  },
  {
   "cell_type": "code",
   "execution_count": 3,
   "metadata": {
    "dotnet_interactive": {
     "language": "csharp"
    },
    "polyglot_notebook": {
     "kernelName": "csharp"
    },
    "vscode": {
     "languageId": "polyglot-notebook"
    }
   },
   "outputs": [],
   "source": [
    "var vectorsLeft = MilvusVectors.CreateIds(\n",
    "    collectionName, \n",
    "    \"book_intro\",\n",
    "    new long[] {1,2});\n",
    "\n",
    "var vectorsRight = MilvusVectors.CreateFloatVectors(\n",
    "    new List<List<float>> {\n",
    "        new List<float> { 1,2},\n",
    "        new List<float> { 3,4},\n",
    "        new List<float> { 5,6},\n",
    "        new List<float> { 7,8},});"
   ]
  },
  {
   "attachments": {},
   "cell_type": "markdown",
   "metadata": {},
   "source": [
    "# Calculate vector distance\n",
    "\n",
    "> Calculate the distance between vectors based on the vectors and parameters provided."
   ]
  },
  {
   "cell_type": "code",
   "execution_count": 4,
   "metadata": {
    "dotnet_interactive": {
     "language": "csharp"
    },
    "polyglot_notebook": {
     "kernelName": "csharp"
    },
    "vscode": {
     "languageId": "polyglot-notebook"
    }
   },
   "outputs": [
    {
     "ename": "Error",
     "evalue": "Grpc.Core.RpcException: Status(StatusCode=\"Unknown\", Detail=\"it's a deny api, fullMethod:/milvus.proto.milvus.MilvusService/CalcDistance\")\r\n   at IO.Milvus.Client.gRPC.MilvusGrpcClient.CalDistanceAsync(MilvusVectors leftVectors, MilvusVectors rightVectors, MilvusMetricType milvusMetricType, CancellationToken cancellationToken)\r\n   at Submission#6.<<Initialize>>d__0.MoveNext()\r\n--- End of stack trace from previous location ---\r\n   at Microsoft.CodeAnalysis.Scripting.ScriptExecutionState.RunSubmissionsAsync[TResult](ImmutableArray`1 precedingExecutors, Func`2 currentExecutor, StrongBox`1 exceptionHolderOpt, Func`2 catchExceptionOpt, CancellationToken cancellationToken)",
     "output_type": "error",
     "traceback": [
      "Grpc.Core.RpcException: Status(StatusCode=\"Unknown\", Detail=\"it's a deny api, fullMethod:/milvus.proto.milvus.MilvusService/CalcDistance\")\r\n",
      "   at IO.Milvus.Client.gRPC.MilvusGrpcClient.CalDistanceAsync(MilvusVectors leftVectors, MilvusVectors rightVectors, MilvusMetricType milvusMetricType, CancellationToken cancellationToken)\r\n",
      "   at Submission#6.<<Initialize>>d__0.MoveNext()\r\n",
      "--- End of stack trace from previous location ---\r\n",
      "   at Microsoft.CodeAnalysis.Scripting.ScriptExecutionState.RunSubmissionsAsync[TResult](ImmutableArray`1 precedingExecutors, Func`2 currentExecutor, StrongBox`1 exceptionHolderOpt, Func`2 catchExceptionOpt, CancellationToken cancellationToken)"
     ]
    }
   ],
   "source": [
    "MilvusCalDistanceResult result = await milvusClient.CalDistanceAsync(vectorsLeft, vectorsRight, MilvusMetricType.IP);\n",
    "\n",
    "result "
   ]
  }
 ],
 "metadata": {
  "language_info": {
   "name": "python"
  },
  "orig_nbformat": 4
 },
 "nbformat": 4,
 "nbformat_minor": 2
}
