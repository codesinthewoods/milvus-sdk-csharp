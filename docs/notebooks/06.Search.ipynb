{
 "cells": [
  {
   "attachments": {},
   "cell_type": "markdown",
   "metadata": {},
   "source": [
    "# [Conduct a Vector Similarity Search](https://milvus.io/docs/v2.3.0-beta/search.md)\n",
    "\n",
    "> This topic describes how to search entities with Milvus.\n",
    "\n",
    "A vector similarity search in Milvus calculates the distance between query vector(s) and vectors in the collection with specified similarity metrics, and returns the most similar results. By specifying a boolean expression that filters the scalar field or the primary key field, you can perform a hybrid search or even a search with Time Travel."
   ]
  },
  {
   "attachments": {},
   "cell_type": "markdown",
   "metadata": {},
   "source": [
    "# Connect to milvus"
   ]
  },
  {
   "cell_type": "code",
   "execution_count": 1,
   "metadata": {
    "dotnet_interactive": {
     "language": "csharp"
    },
    "polyglot_notebook": {
     "kernelName": "csharp"
    },
    "vscode": {
     "languageId": "polyglot-notebook"
    }
   },
   "outputs": [
    {
     "data": {
      "text/html": [
       "<div><div></div><div></div><div><strong>Installed Packages</strong><ul><li><span>IO.Milvus, 2.2.1-alpha.4</span></li></ul></div></div>"
      ]
     },
     "metadata": {},
     "output_type": "display_data"
    },
    {
     "data": {
      "text/html": [
       "<details open=\"open\" class=\"dni-treeview\"><summary><span class=\"dni-code-hint\"><code>{MilvusGrpcClient:in01-5a0bcd24f238dca.aws-us-west-2.vectordb.zillizcloud.com:19536}</code></span></summary><div><table><thead><tr></tr></thead><tbody><tr><td>Address</td><td>in01-5a0bcd24f238dca.aws-us-west-2.vectordb.zillizcloud.com:19536</td></tr></tbody></table></div></details><style>\r\n",
       ".dni-code-hint {\r\n",
       "    font-style: italic;\r\n",
       "    overflow: hidden;\r\n",
       "    white-space: nowrap;\r\n",
       "}\r\n",
       ".dni-treeview {\r\n",
       "    white-space: nowrap;\r\n",
       "}\r\n",
       ".dni-treeview td {\r\n",
       "    vertical-align: top;\r\n",
       "    text-align: start;\r\n",
       "}\r\n",
       "details.dni-treeview {\r\n",
       "    padding-left: 1em;\r\n",
       "}\r\n",
       "table td {\r\n",
       "    text-align: start;\r\n",
       "}\r\n",
       "table tr { \r\n",
       "    vertical-align: top; \r\n",
       "    margin: 0em 0px;\r\n",
       "}\r\n",
       "table tr td pre \r\n",
       "{ \r\n",
       "    vertical-align: top !important; \r\n",
       "    margin: 0em 0px !important;\r\n",
       "} \r\n",
       "table th {\r\n",
       "    text-align: start;\r\n",
       "}\r\n",
       "</style>"
      ]
     },
     "metadata": {},
     "output_type": "display_data"
    }
   ],
   "source": [
    "#r \"nuget: IO.Milvus, 2.2.1-alpha.4\"\n",
    "#!import config/Settings.cs\n",
    "\n",
    "using IO.Milvus;\n",
    "using IO.Milvus.Client;\n",
    "using IO.Milvus.Client.gRPC;\n",
    "using IO.Milvus.Client.REST;\n",
    "using InteractiveKernel = Microsoft.DotNet.Interactive.Kernel;\n",
    "\n",
    "//Connect to milvus\n",
    "(string endpoint,int port,string userName,string password) = Settings.LoadFromFile();\n",
    "\n",
    "IMilvusClient milvusClient = default;\n",
    "\n",
    "milvusClient = new MilvusGrpcClient(endpoint,port,userName,password);\n",
    "milvusClient"
   ]
  },
  {
   "attachments": {},
   "cell_type": "markdown",
   "metadata": {},
   "source": [
    "# Load collection\n",
    "\n",
    "All search and query operations within Milvus are executed in memory. Load the collection to memory before conducting a vector similarity search."
   ]
  },
  {
   "cell_type": "code",
   "execution_count": 9,
   "metadata": {
    "dotnet_interactive": {
     "language": "csharp"
    },
    "polyglot_notebook": {
     "kernelName": "csharp"
    },
    "vscode": {
     "languageId": "polyglot-notebook"
    }
   },
   "outputs": [
    {
     "name": "stdout",
     "output_type": "stream",
     "text": [
      "100%\r\n"
     ]
    },
    {
     "data": {
      "text/html": [
       "<details open=\"open\" class=\"dni-treeview\"><summary><span class=\"dni-code-hint\"><code>IO.Milvus.ApiSchema.DetailedMilvusCollection</code></span></summary><div><table><thead><tr></tr></thead><tbody><tr><td>Aliases</td><td></td></tr><tr><td>CollectionName</td><td>book</td></tr><tr><td>CollectionId</td><td><div class=\"dni-plaintext\"><pre>441758375942619910</pre></div></td></tr><tr><td>ConsistencyLevel</td><td><span>Session</span></td></tr><tr><td>CreatedUtcTime</td><td><span>2023-05-28 05:28:23Z</span></td></tr><tr><td>Schema</td><td><details class=\"dni-treeview\"><summary><span class=\"dni-code-hint\"><code>IO.Milvus.ApiSchema.CollectionSchema</code></span></summary><div><table><thead><tr></tr></thead><tbody><tr><td>AutoId</td><td><div class=\"dni-plaintext\"><pre>False</pre></div></td></tr><tr><td>Description</td><td></td></tr><tr><td>Fields</td><td><table><thead><tr><th><i>index</i></th><th>value</th></tr></thead><tbody><tr><td>0</td><td><details class=\"dni-treeview\"><summary><span class=\"dni-code-hint\"><code>IO.Milvus.FieldType</code></span></summary><div><table><thead><tr></tr></thead><tbody><tr><td>AutoId</td><td><div class=\"dni-plaintext\"><pre>False</pre></div></td></tr><tr><td>DataType</td><td><span>Int64</span></td></tr><tr><td>Description</td><td><div class=\"dni-plaintext\"><pre>&lt;null&gt;</pre></div></td></tr><tr><td>FieldId</td><td><div class=\"dni-plaintext\"><pre>100</pre></div></td></tr><tr><td>IndexParams</td><td><i>(empty)</i></td></tr><tr><td>IsPrimaryKey</td><td><div class=\"dni-plaintext\"><pre>True</pre></div></td></tr><tr><td>Name</td><td>book_id</td></tr><tr><td>TypeParams</td><td><i>(empty)</i></td></tr></tbody></table></div></details></td></tr><tr><td>1</td><td><details class=\"dni-treeview\"><summary><span class=\"dni-code-hint\"><code>IO.Milvus.FieldType</code></span></summary><div><table><thead><tr></tr></thead><tbody><tr><td>AutoId</td><td><div class=\"dni-plaintext\"><pre>False</pre></div></td></tr><tr><td>DataType</td><td><span>Int64</span></td></tr><tr><td>Description</td><td><div class=\"dni-plaintext\"><pre>&lt;null&gt;</pre></div></td></tr><tr><td>FieldId</td><td><div class=\"dni-plaintext\"><pre>101</pre></div></td></tr><tr><td>IndexParams</td><td><i>(empty)</i></td></tr><tr><td>IsPrimaryKey</td><td><div class=\"dni-plaintext\"><pre>False</pre></div></td></tr><tr><td>Name</td><td>word_count</td></tr><tr><td>TypeParams</td><td><i>(empty)</i></td></tr></tbody></table></div></details></td></tr><tr><td>2</td><td><details class=\"dni-treeview\"><summary><span class=\"dni-code-hint\"><code>IO.Milvus.FieldType</code></span></summary><div><table><thead><tr></tr></thead><tbody><tr><td>AutoId</td><td><div class=\"dni-plaintext\"><pre>False</pre></div></td></tr><tr><td>DataType</td><td><span>VarChar</span></td></tr><tr><td>Description</td><td><div class=\"dni-plaintext\"><pre>&lt;null&gt;</pre></div></td></tr><tr><td>FieldId</td><td><div class=\"dni-plaintext\"><pre>102</pre></div></td></tr><tr><td>IndexParams</td><td><i>(empty)</i></td></tr><tr><td>IsPrimaryKey</td><td><div class=\"dni-plaintext\"><pre>False</pre></div></td></tr><tr><td>Name</td><td>book_name</td></tr><tr><td>TypeParams</td><td><table><thead><tr><th><i>key</i></th><th>value</th></tr></thead><tbody><tr><td>max_length</td><td>256</td></tr></tbody></table></td></tr></tbody></table></div></details></td></tr><tr><td>3</td><td><details class=\"dni-treeview\"><summary><span class=\"dni-code-hint\"><code>IO.Milvus.FieldType</code></span></summary><div><table><thead><tr></tr></thead><tbody><tr><td>AutoId</td><td><div class=\"dni-plaintext\"><pre>False</pre></div></td></tr><tr><td>DataType</td><td><span>FloatVector</span></td></tr><tr><td>Description</td><td><div class=\"dni-plaintext\"><pre>&lt;null&gt;</pre></div></td></tr><tr><td>FieldId</td><td><div class=\"dni-plaintext\"><pre>103</pre></div></td></tr><tr><td>IndexParams</td><td><i>(empty)</i></td></tr><tr><td>IsPrimaryKey</td><td><div class=\"dni-plaintext\"><pre>False</pre></div></td></tr><tr><td>Name</td><td>book_intro</td></tr><tr><td>TypeParams</td><td><table><thead><tr><th><i>key</i></th><th>value</th></tr></thead><tbody><tr><td>dim</td><td>2</td></tr></tbody></table></td></tr></tbody></table></div></details></td></tr></tbody></table></td></tr><tr><td>Name</td><td>book</td></tr></tbody></table></div></details></td></tr><tr><td>ShardsNum</td><td><div class=\"dni-plaintext\"><pre>1</pre></div></td></tr><tr><td>StartPostions</td><td><i>(empty)</i></td></tr></tbody></table></div></details><style>\r\n",
       ".dni-code-hint {\r\n",
       "    font-style: italic;\r\n",
       "    overflow: hidden;\r\n",
       "    white-space: nowrap;\r\n",
       "}\r\n",
       ".dni-treeview {\r\n",
       "    white-space: nowrap;\r\n",
       "}\r\n",
       ".dni-treeview td {\r\n",
       "    vertical-align: top;\r\n",
       "    text-align: start;\r\n",
       "}\r\n",
       "details.dni-treeview {\r\n",
       "    padding-left: 1em;\r\n",
       "}\r\n",
       "table td {\r\n",
       "    text-align: start;\r\n",
       "}\r\n",
       "table tr { \r\n",
       "    vertical-align: top; \r\n",
       "    margin: 0em 0px;\r\n",
       "}\r\n",
       "table tr td pre \r\n",
       "{ \r\n",
       "    vertical-align: top !important; \r\n",
       "    margin: 0em 0px !important;\r\n",
       "} \r\n",
       "table th {\r\n",
       "    text-align: start;\r\n",
       "}\r\n",
       "</style>"
      ]
     },
     "metadata": {},
     "output_type": "display_data"
    }
   ],
   "source": [
    "string collectionName = \"book\";\n",
    "\n",
    "if(!(await milvusClient.HasCollectionAsync(collectionName)))\n",
    "{\n",
    "    Console.WriteLine($\"Collection {collectionName} not exist\");\n",
    "    return;\n",
    "}\n",
    "\n",
    "await milvusClient.LoadCollectionAsync(collectionName);\n",
    "\n",
    "//Waiting for collection loaded\n",
    "\n",
    "long progress = await milvusClient.GetLoadingProgressAsync(collectionName);\n",
    "\n",
    "while(progress < 100)\n",
    "{\n",
    "    Console.WriteLine($\"{progress}%\");\n",
    "    progress = await milvusClient.GetLoadingProgressAsync(collectionName);\n",
    "    await Task.Delay(100);\n",
    "}\n",
    "\n",
    "Console.WriteLine($\"{progress}%\");\n",
    "\n",
    "var collectionInfo = await milvusClient.DescribeCollectionAsync(collectionName);\n",
    "collectionInfo"
   ]
  },
  {
   "attachments": {},
   "cell_type": "markdown",
   "metadata": {},
   "source": [
    "# Prepare search parameters\n",
    "\n",
    "| Parameter | Description | Options |\n",
    "| --- | --- | --- |\n",
    "| TopK | Number of the most similar results to return. | N/A |\n",
    "| Params | Search parameter(s) specific to the index. | See [Vector Index](https://milvus.io/docs/v2.3.0-beta/index.md) for more information."
   ]
  },
  {
   "attachments": {},
   "cell_type": "markdown",
   "metadata": {},
   "source": [
    "# Conduct a vector search\n",
    "\n",
    "🔍🔍🔍🔍🔍🔍🔍🔍🔍🔍🔍🔍🔍🔍🔍🔍"
   ]
  },
  {
   "cell_type": "code",
   "execution_count": 6,
   "metadata": {
    "dotnet_interactive": {
     "language": "csharp"
    },
    "polyglot_notebook": {
     "kernelName": "csharp"
    },
    "vscode": {
     "languageId": "polyglot-notebook"
    }
   },
   "outputs": [
    {
     "data": {
      "text/html": [
       "<details open=\"open\" class=\"dni-treeview\"><summary><span class=\"dni-code-hint\"><code>IO.Milvus.MilvusSearchResultData</code></span></summary><div><table><thead><tr></tr></thead><tbody><tr><td>FieldsData</td><td><table><thead><tr><th><i>index</i></th><th>value</th></tr></thead><tbody><tr><td>0</td><td><details class=\"dni-treeview\"><summary><span class=\"dni-code-hint\"><code>{FieldName: book_id, DataType: Int64, RowCount: 2}</code></span></summary><div><table><thead><tr></tr></thead><tbody><tr><td>Data</td><td><div class=\"dni-plaintext\"><pre>[ 1454, 1176 ]</pre></div></td></tr><tr><td>RowCount</td><td><div class=\"dni-plaintext\"><pre>2</pre></div></td></tr><tr><td>FieldName</td><td>book_id</td></tr><tr><td>FieldId</td><td><div class=\"dni-plaintext\"><pre>0</pre></div></td></tr><tr><td>DataType</td><td><span>Int64</span></td></tr></tbody></table></div></details></td></tr></tbody></table></td></tr><tr><td>Ids</td><td><details class=\"dni-treeview\"><summary><span class=\"dni-code-hint\"><code>IO.Milvus.MilvusIds</code></span></summary><div><table><thead><tr></tr></thead><tbody><tr><td>IdField</td><td><details class=\"dni-treeview\"><summary><span class=\"dni-code-hint\"><code>IO.Milvus.IdField</code></span></summary><div><table><thead><tr></tr></thead><tbody><tr><td>IdFieldCase</td><td><span>IntId</span></td></tr><tr><td>IntId</td><td><details class=\"dni-treeview\"><summary><span class=\"dni-code-hint\"><code>IO.Milvus.MilvusId`1[System.Int64]</code></span></summary><div><table><thead><tr></tr></thead><tbody><tr><td>Data</td><td><div class=\"dni-plaintext\"><pre>[ 1454, 1176 ]</pre></div></td></tr></tbody></table></div></details></td></tr><tr><td>StrId</td><td><div class=\"dni-plaintext\"><pre>&lt;null&gt;</pre></div></td></tr></tbody></table></div></details></td></tr></tbody></table></div></details></td></tr><tr><td>NumQueries</td><td><div class=\"dni-plaintext\"><pre>1</pre></div></td></tr><tr><td>Scores</td><td><div class=\"dni-plaintext\"><pre>[ 640822100, 623245440 ]</pre></div></td></tr><tr><td>TopK</td><td><div class=\"dni-plaintext\"><pre>2</pre></div></td></tr><tr><td>TopKs</td><td><div class=\"dni-plaintext\"><pre>[ 2 ]</pre></div></td></tr></tbody></table></div></details><style>\r\n",
       ".dni-code-hint {\r\n",
       "    font-style: italic;\r\n",
       "    overflow: hidden;\r\n",
       "    white-space: nowrap;\r\n",
       "}\r\n",
       ".dni-treeview {\r\n",
       "    white-space: nowrap;\r\n",
       "}\r\n",
       ".dni-treeview td {\r\n",
       "    vertical-align: top;\r\n",
       "    text-align: start;\r\n",
       "}\r\n",
       "details.dni-treeview {\r\n",
       "    padding-left: 1em;\r\n",
       "}\r\n",
       "table td {\r\n",
       "    text-align: start;\r\n",
       "}\r\n",
       "table tr { \r\n",
       "    vertical-align: top; \r\n",
       "    margin: 0em 0px;\r\n",
       "}\r\n",
       "table tr td pre \r\n",
       "{ \r\n",
       "    vertical-align: top !important; \r\n",
       "    margin: 0em 0px !important;\r\n",
       "} \r\n",
       "table th {\r\n",
       "    text-align: start;\r\n",
       "}\r\n",
       "</style>"
      ]
     },
     "metadata": {},
     "output_type": "display_data"
    }
   ],
   "source": [
    "List<string> search_output_fields = new() { \"book_id\" };\n",
    "List<List<float>> search_vectors = new() { new() { 0.1f, 0.2f } };\n",
    "var searchResult = await milvusClient.SearchAsync(\n",
    "    MilvusSearchParameters.Create(collectionName, \"book_intro\", search_output_fields)\n",
    "    .WithVectors(search_vectors)\n",
    "    .WithConsistencyLevel(MilvusConsistencyLevel.Strong)\n",
    "    .WithMetricType(MilvusMetricType.IP)\n",
    "    .WithTopK(topK: 2)\n",
    "    .WithParameter(\"nprobe\", \"10\")\n",
    "    .WithParameter(\"offset\", \"5\"));\n",
    "\n",
    "searchResult.Results"
   ]
  },
  {
   "attachments": {},
   "cell_type": "markdown",
   "metadata": {},
   "source": [
    "| Parameter         | Description                                                  | Options                                                      |\n",
    "| ----------------- | ------------------------------------------------------------ | ------------------------------------------------------------ |\n",
    "| CollectionName    | Name of the collection to load.                              | N/A                                                          |\n",
    "| MetricType        | Metric type used for search.                                 | This parameter must be set identical to the metric type used for index building. |\n",
    "| OutFields         | Name of the field to return.                                 | Vector field is not supported in current release.            |\n",
    "| Vectors           | Vectors to search with.                                      | N/A                                                          |\n",
    "| VectorFieldName   | Name of the field to search on.                               | N/A                                                          |\n",
    "| Expr              | Boolean expression used to filter attribute.                  | See Boolean Expression Rules for more information.           |\n",
    "| ConsistencyLevel  | The consistency level used in the query.                      | STRONG, BOUNDED, and EVENTUALLY.                             |"
   ]
  },
  {
   "attachments": {},
   "cell_type": "markdown",
   "metadata": {},
   "source": [
    "# Release the Collection.\n",
    "\n",
    "🍃🍃🍃🍃🍃🍃🍃🍃🍃🍃🍃🍃🍃🍃🍃🍃\n",
    "\n",
    "> Release the collection loaded in Milvus to reduce memory consumption when the search is completed."
   ]
  },
  {
   "cell_type": "code",
   "execution_count": 11,
   "metadata": {
    "dotnet_interactive": {
     "language": "csharp"
    },
    "polyglot_notebook": {
     "kernelName": "csharp"
    },
    "vscode": {
     "languageId": "polyglot-notebook"
    }
   },
   "outputs": [
    {
     "data": {
      "text/html": [
       "<details open=\"open\" class=\"dni-treeview\"><summary><span class=\"dni-code-hint\"><code>IO.Milvus.ApiSchema.DetailedMilvusCollection</code></span></summary><div><table><thead><tr></tr></thead><tbody><tr><td>Aliases</td><td></td></tr><tr><td>CollectionName</td><td>book</td></tr><tr><td>CollectionId</td><td><div class=\"dni-plaintext\"><pre>441758375942619910</pre></div></td></tr><tr><td>ConsistencyLevel</td><td><span>Session</span></td></tr><tr><td>CreatedUtcTime</td><td><span>2023-05-28 05:28:23Z</span></td></tr><tr><td>Schema</td><td><details class=\"dni-treeview\"><summary><span class=\"dni-code-hint\"><code>IO.Milvus.ApiSchema.CollectionSchema</code></span></summary><div><table><thead><tr></tr></thead><tbody><tr><td>AutoId</td><td><div class=\"dni-plaintext\"><pre>False</pre></div></td></tr><tr><td>Description</td><td></td></tr><tr><td>Fields</td><td><table><thead><tr><th><i>index</i></th><th>value</th></tr></thead><tbody><tr><td>0</td><td><details class=\"dni-treeview\"><summary><span class=\"dni-code-hint\"><code>IO.Milvus.FieldType</code></span></summary><div><table><thead><tr></tr></thead><tbody><tr><td>AutoId</td><td><div class=\"dni-plaintext\"><pre>False</pre></div></td></tr><tr><td>DataType</td><td><span>Int64</span></td></tr><tr><td>Description</td><td><div class=\"dni-plaintext\"><pre>&lt;null&gt;</pre></div></td></tr><tr><td>FieldId</td><td><div class=\"dni-plaintext\"><pre>100</pre></div></td></tr><tr><td>IndexParams</td><td><i>(empty)</i></td></tr><tr><td>IsPrimaryKey</td><td><div class=\"dni-plaintext\"><pre>True</pre></div></td></tr><tr><td>Name</td><td>book_id</td></tr><tr><td>TypeParams</td><td><i>(empty)</i></td></tr></tbody></table></div></details></td></tr><tr><td>1</td><td><details class=\"dni-treeview\"><summary><span class=\"dni-code-hint\"><code>IO.Milvus.FieldType</code></span></summary><div><table><thead><tr></tr></thead><tbody><tr><td>AutoId</td><td><div class=\"dni-plaintext\"><pre>False</pre></div></td></tr><tr><td>DataType</td><td><span>Int64</span></td></tr><tr><td>Description</td><td><div class=\"dni-plaintext\"><pre>&lt;null&gt;</pre></div></td></tr><tr><td>FieldId</td><td><div class=\"dni-plaintext\"><pre>101</pre></div></td></tr><tr><td>IndexParams</td><td><i>(empty)</i></td></tr><tr><td>IsPrimaryKey</td><td><div class=\"dni-plaintext\"><pre>False</pre></div></td></tr><tr><td>Name</td><td>word_count</td></tr><tr><td>TypeParams</td><td><i>(empty)</i></td></tr></tbody></table></div></details></td></tr><tr><td>2</td><td><details class=\"dni-treeview\"><summary><span class=\"dni-code-hint\"><code>IO.Milvus.FieldType</code></span></summary><div><table><thead><tr></tr></thead><tbody><tr><td>AutoId</td><td><div class=\"dni-plaintext\"><pre>False</pre></div></td></tr><tr><td>DataType</td><td><span>VarChar</span></td></tr><tr><td>Description</td><td><div class=\"dni-plaintext\"><pre>&lt;null&gt;</pre></div></td></tr><tr><td>FieldId</td><td><div class=\"dni-plaintext\"><pre>102</pre></div></td></tr><tr><td>IndexParams</td><td><i>(empty)</i></td></tr><tr><td>IsPrimaryKey</td><td><div class=\"dni-plaintext\"><pre>False</pre></div></td></tr><tr><td>Name</td><td>book_name</td></tr><tr><td>TypeParams</td><td><table><thead><tr><th><i>key</i></th><th>value</th></tr></thead><tbody><tr><td>max_length</td><td>256</td></tr></tbody></table></td></tr></tbody></table></div></details></td></tr><tr><td>3</td><td><details class=\"dni-treeview\"><summary><span class=\"dni-code-hint\"><code>IO.Milvus.FieldType</code></span></summary><div><table><thead><tr></tr></thead><tbody><tr><td>AutoId</td><td><div class=\"dni-plaintext\"><pre>False</pre></div></td></tr><tr><td>DataType</td><td><span>FloatVector</span></td></tr><tr><td>Description</td><td><div class=\"dni-plaintext\"><pre>&lt;null&gt;</pre></div></td></tr><tr><td>FieldId</td><td><div class=\"dni-plaintext\"><pre>103</pre></div></td></tr><tr><td>IndexParams</td><td><i>(empty)</i></td></tr><tr><td>IsPrimaryKey</td><td><div class=\"dni-plaintext\"><pre>False</pre></div></td></tr><tr><td>Name</td><td>book_intro</td></tr><tr><td>TypeParams</td><td><table><thead><tr><th><i>key</i></th><th>value</th></tr></thead><tbody><tr><td>dim</td><td>2</td></tr></tbody></table></td></tr></tbody></table></div></details></td></tr></tbody></table></td></tr><tr><td>Name</td><td>book</td></tr></tbody></table></div></details></td></tr><tr><td>ShardsNum</td><td><div class=\"dni-plaintext\"><pre>1</pre></div></td></tr><tr><td>StartPostions</td><td><i>(empty)</i></td></tr></tbody></table></div></details><style>\r\n",
       ".dni-code-hint {\r\n",
       "    font-style: italic;\r\n",
       "    overflow: hidden;\r\n",
       "    white-space: nowrap;\r\n",
       "}\r\n",
       ".dni-treeview {\r\n",
       "    white-space: nowrap;\r\n",
       "}\r\n",
       ".dni-treeview td {\r\n",
       "    vertical-align: top;\r\n",
       "    text-align: start;\r\n",
       "}\r\n",
       "details.dni-treeview {\r\n",
       "    padding-left: 1em;\r\n",
       "}\r\n",
       "table td {\r\n",
       "    text-align: start;\r\n",
       "}\r\n",
       "table tr { \r\n",
       "    vertical-align: top; \r\n",
       "    margin: 0em 0px;\r\n",
       "}\r\n",
       "table tr td pre \r\n",
       "{ \r\n",
       "    vertical-align: top !important; \r\n",
       "    margin: 0em 0px !important;\r\n",
       "} \r\n",
       "table th {\r\n",
       "    text-align: start;\r\n",
       "}\r\n",
       "</style>"
      ]
     },
     "metadata": {},
     "output_type": "display_data"
    }
   ],
   "source": [
    "await milvusClient.ReleaseCollectionAsync(collectionName);\n",
    "\n",
    "var collectionInfo = await milvusClient.DescribeCollectionAsync(collectionName);\n",
    "collectionInfo"
   ]
  }
 ],
 "metadata": {
  "language_info": {
   "name": "python"
  },
  "orig_nbformat": 4
 },
 "nbformat": 4,
 "nbformat_minor": 2
}
