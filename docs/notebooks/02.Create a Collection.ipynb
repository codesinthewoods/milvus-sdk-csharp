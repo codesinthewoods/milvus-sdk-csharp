{
 "cells": [
  {
   "attachments": {},
   "cell_type": "markdown",
   "metadata": {},
   "source": [
    "# [Create a collection](https://milvus.io/docs/v2.3.0-beta/create_collection.md)\n",
    "\n",
    "🎁🎁🎁🎁🎁🎁🎁🎁🎁🎁🎁🎁🎁🎁\n",
    "\n",
    "> This topic describes how to create a collection in Milvus.\n",
    "\n",
    "A collection consists of one or more partitions. While creating a new collection, Milvus creates a default partition _default. See [Glossary](https://milvus.io/docs/v2.3.0-beta/glossary.md#Collection) - Collection for more information."
   ]
  },
  {
   "attachments": {},
   "cell_type": "markdown",
   "metadata": {},
   "source": [
    "# Connect to milvus"
   ]
  },
  {
   "cell_type": "code",
   "execution_count": 11,
   "metadata": {
    "dotnet_interactive": {
     "language": "csharp"
    },
    "polyglot_notebook": {
     "kernelName": "csharp"
    },
    "vscode": {
     "languageId": "polyglot-notebook"
    }
   },
   "outputs": [
    {
     "data": {
      "text/html": [
       "<div><div></div><div></div><div><strong>Installed Packages</strong><ul><li><span>IO.Milvus, 2.2.1-alpha.4</span></li></ul></div></div>"
      ]
     },
     "metadata": {},
     "output_type": "display_data"
    },
    {
     "data": {
      "text/html": [
       "<details open=\"open\" class=\"dni-treeview\"><summary><span class=\"dni-code-hint\"><code>{MilvusGrpcClient:in01-5a0bcd24f238dca.aws-us-west-2.vectordb.zillizcloud.com:19536}</code></span></summary><div><table><thead><tr></tr></thead><tbody><tr><td>Address</td><td>in01-5a0bcd24f238dca.aws-us-west-2.vectordb.zillizcloud.com:19536</td></tr></tbody></table></div></details><style>\r\n",
       ".dni-code-hint {\r\n",
       "    font-style: italic;\r\n",
       "    overflow: hidden;\r\n",
       "    white-space: nowrap;\r\n",
       "}\r\n",
       ".dni-treeview {\r\n",
       "    white-space: nowrap;\r\n",
       "}\r\n",
       ".dni-treeview td {\r\n",
       "    vertical-align: top;\r\n",
       "    text-align: start;\r\n",
       "}\r\n",
       "details.dni-treeview {\r\n",
       "    padding-left: 1em;\r\n",
       "}\r\n",
       "table td {\r\n",
       "    text-align: start;\r\n",
       "}\r\n",
       "table tr { \r\n",
       "    vertical-align: top; \r\n",
       "    margin: 0em 0px;\r\n",
       "}\r\n",
       "table tr td pre \r\n",
       "{ \r\n",
       "    vertical-align: top !important; \r\n",
       "    margin: 0em 0px !important;\r\n",
       "} \r\n",
       "table th {\r\n",
       "    text-align: start;\r\n",
       "}\r\n",
       "</style>"
      ]
     },
     "metadata": {},
     "output_type": "display_data"
    }
   ],
   "source": [
    "#r \"nuget: IO.Milvus, 2.2.1-alpha.4\"\n",
    "#!import config/Settings.cs\n",
    "\n",
    "using IO.Milvus;\n",
    "using IO.Milvus.Client;\n",
    "using IO.Milvus.Client.gRPC;\n",
    "using IO.Milvus.Client.REST;\n",
    "using InteractiveKernel = Microsoft.DotNet.Interactive.Kernel;\n",
    "\n",
    "//Connect to milvus\n",
    "(string endpoint,int port,string userName,string password) = Settings.LoadFromFile();\n",
    "\n",
    "IMilvusClient milvusClient = default;\n",
    "\n",
    "milvusClient = new MilvusGrpcClient(endpoint,port,userName,password);\n",
    "milvusClient"
   ]
  },
  {
   "attachments": {},
   "cell_type": "markdown",
   "metadata": {},
   "source": [
    "# Create a collection\n",
    "\n",
    "First, prepare necessary parameters, including field schema, collection schema, and collection name.\n",
    "\n",
    "> The collection to create must contain a primary key field and a vector field. INT64 and String are supported data type on primary key field."
   ]
  },
  {
   "cell_type": "code",
   "execution_count": 12,
   "metadata": {
    "dotnet_interactive": {
     "language": "csharp"
    },
    "polyglot_notebook": {
     "kernelName": "csharp"
    },
    "vscode": {
     "languageId": "polyglot-notebook"
    }
   },
   "outputs": [],
   "source": [
    "using System.Diagnostics;\n",
    "\n",
    "string collectionName = \"book\";\n",
    "\n",
    "//Check if this collection exists\n",
    "var hasCollection = await milvusClient.HasCollectionAsync(collectionName);\n",
    "\n",
    "if(hasCollection){\n",
    "    await milvusClient.DropCollectionAsync(collectionName);\n",
    "    Console.WriteLine(\"Drop collection {0}\",collectionName);\n",
    "}\n",
    "\n",
    "await milvusClient.CreateCollectionAsync(\n",
    "            collectionName,\n",
    "            new[] {\n",
    "                FieldType.Create<long>(\"book_id\",isPrimaryKey:true),\n",
    "                FieldType.Create<long>(\"word_count\"),\n",
    "                FieldType.CreateVarchar(\"book_name\",256),\n",
    "                FieldType.CreateFloatVector(\"book_intro\",2),\n",
    "            }\n",
    "        );"
   ]
  },
  {
   "attachments": {},
   "cell_type": "markdown",
   "metadata": {},
   "source": [
    "# Collection info\n",
    "📰📰📰📰📰📰📰📰📰📰📰📰📰\n",
    "\n",
    "Now, we created a collection. We can use DescribeCollectionAsync to show more details about this collection."
   ]
  },
  {
   "cell_type": "code",
   "execution_count": 13,
   "metadata": {
    "dotnet_interactive": {
     "language": "csharp"
    },
    "polyglot_notebook": {
     "kernelName": "csharp"
    },
    "vscode": {
     "languageId": "polyglot-notebook"
    }
   },
   "outputs": [
    {
     "name": "stdout",
     "output_type": "stream",
     "text": [
      "CollectionName:book, CollectionId:441758375942619910, ConsistencyLevel:Session, CreatedTime:2023/5/28 13:28:23\r\n"
     ]
    }
   ],
   "source": [
    "//Show collection iformation\n",
    "var collectionInfo = await milvusClient.DescribeCollectionAsync(collectionName);\n",
    "\n",
    "Console.WriteLine(\"CollectionName:{0}, CollectionId:{1}, ConsistencyLevel:{2}, CreatedTime:{3}\",\n",
    "    collectionInfo.CollectionName,\n",
    "    collectionInfo.CollectionId,\n",
    "    collectionInfo.ConsistencyLevel,\n",
    "    collectionInfo.CreatedUtcTime.ToLocalTime());"
   ]
  }
 ],
 "metadata": {
  "language_info": {
   "name": "python"
  },
  "orig_nbformat": 4
 },
 "nbformat": 4,
 "nbformat_minor": 2
}
